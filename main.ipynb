{
 "cells": [
  {
   "cell_type": "markdown",
   "id": "911fdb64",
   "metadata": {},
   "source": [
    "# **Algoritmos Greedy | Problema de la mochila fraccionaria**"
   ]
  },
  {
   "cell_type": "markdown",
   "id": "8facc261",
   "metadata": {},
   "source": [
    "### Link del Repositorio\n",
    "\n",
    "* https://github.com/paulabaal12/mochila"
   ]
  },
  {
   "cell_type": "markdown",
   "id": "1c619edc",
   "metadata": {},
   "source": [
    "### Link de Presentación\n",
    "* https://www.canva.com/design/DAGkFkvfg08/jWdpOdZgBMqpecVudWJymw/edit "
   ]
  },
  {
   "cell_type": "markdown",
   "id": "f4e49911",
   "metadata": {},
   "source": [
    "### Integrantes del equipo\n",
    "- Francis Aguilar\t22243\n",
    "- Angela García\t    22869\n",
    "- Gerardo Pineda\t22880\n",
    "- Paula Barillas \t22764"
   ]
  }
 ],
 "metadata": {
  "language_info": {
   "name": "python"
  }
 },
 "nbformat": 4,
 "nbformat_minor": 5
}
