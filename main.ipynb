{
 "cells": [
  {
   "cell_type": "markdown",
   "id": "911fdb64",
   "metadata": {},
   "source": [
    "# **Algoritmos Greedy | Problema de la mochila fraccionaria**"
   ]
  },
  {
   "cell_type": "markdown",
   "id": "8facc261",
   "metadata": {},
   "source": [
    "### Link del Repositorio\n",
    "\n",
    "* https://github.com/paulabaal12/mochila"
   ]
  },
  {
   "cell_type": "markdown",
   "id": "1c619edc",
   "metadata": {},
   "source": [
    "### Link de Presentación\n",
    "* https://www.canva.com/design/DAGkFkvfg08/jWdpOdZgBMqpecVudWJymw/edit "
   ]
  },
  {
   "cell_type": "markdown",
   "id": "f4e49911",
   "metadata": {},
   "source": [
    "### Integrantes del equipo\n",
    "- Francis Aguilar,\t22243\n",
    "- Angela García,\t    22869\n",
    "- Gerardo Pineda,\t22880\n",
    "- Paula Barillas, \t22764"
   ]
  },
  {
   "cell_type": "code",
   "execution_count": 1,
   "id": "dcb35090",
   "metadata": {},
   "outputs": [
    {
     "data": {
      "text/plain": [
       "240.0"
      ]
     },
     "execution_count": 1,
     "metadata": {},
     "output_type": "execute_result"
    }
   ],
   "source": [
    "#Ejemplo de la clase:\n",
    "def mochila_fraccional(objetos: list, capacidad: int) -> int:\n",
    "\n",
    "  #ordenar los objetos por valor/peso\n",
    "  objetos.sort(key = lambda x: x[0]/x[1], reverse=True)\n",
    "  valor_total = 0\n",
    "\n",
    "  for valor, peso in objetos:\n",
    "    if capacidad == 0:\n",
    "      break\n",
    "    if peso <= capacidad:\n",
    "      valor_total = valor_total + valor\n",
    "      capacidad = capacidad - peso\n",
    "    else:\n",
    "      fraccion = capacidad / peso\n",
    "      valor_total = valor_total + fraccion * valor\n",
    "      capacidad = 0\n",
    "\n",
    "  return valor_total\n",
    "\n",
    "objetos = [(60, 10), (100, 20), (120, 30)]\n",
    "mochila_fraccional(objetos, 50)  # Salida: 240.0\n"
   ]
  },
  {
   "cell_type": "code",
   "execution_count": 10,
   "id": "c389a08d",
   "metadata": {},
   "outputs": [
    {
     "name": "stdout",
     "output_type": "stream",
     "text": [
      "Aprendizaje total: 16.00\n",
      "\n",
      "Distribución del tiempo:\n",
      " - Bases de Datos: 1.00 horas\n",
      " - Ecuaciones Diferenciales: 3.00 horas\n",
      " - Retos Ambientales: 0.00 horas\n"
     ]
    }
   ],
   "source": [
    "# Ejemplo de uso: \n",
    "# Si tuvieramos 3 examenes para mañana y 4 horas para estudiar, \n",
    "# ¿cuantas horas estudiariamos en para cada examen?\n",
    "# La idea es que el examen mas importante se estudie mas tiempo y los otros \n",
    "# se distribuyan el tiempo restante por importancia\n",
    "\n",
    "def distribuir_tiempo(materias: list, tiempo_total: int) -> int:\n",
    "    #ordenar por valor/tiempo\n",
    "    materias.sort(key=lambda x: x[1] / x[2], reverse=True)\n",
    "\n",
    "    aprendizaje = 0\n",
    "    distribucion = []\n",
    "\n",
    "    for nombre, importancia, tiempo_recomendado in materias:\n",
    "        if tiempo_total == 0:\n",
    "            distribucion.append((nombre, 0))\n",
    "            continue\n",
    "        if tiempo_recomendado <= tiempo_total:\n",
    "            aprendizaje += importancia\n",
    "            distribucion.append((nombre, tiempo_recomendado))\n",
    "            tiempo_total -= tiempo_recomendado\n",
    "        else:\n",
    "            fraccion = tiempo_total / tiempo_recomendado\n",
    "            aprendizaje += fraccion * importancia\n",
    "            distribucion.append((nombre, tiempo_total))\n",
    "            tiempo_total = 0\n",
    "\n",
    "    return aprendizaje, distribucion\n",
    "\n",
    "\n",
    "# tupla (nombre, importancia, tiempo)\n",
    "ecuacionesDiferenciales = (\"Ecuaciones Diferenciales\",10, 3)\n",
    "db =(\"Bases de Datos\",6, 1)\n",
    "retosAmbientales =(\"Retos Ambientales\",2, 1)\n",
    "\n",
    "materias = [ecuacionesDiferenciales, db , retosAmbientales]\n",
    "\n",
    "tiempo_total = 4  # horas\n",
    "aprendizaje, distribucion = distribuir_tiempo(materias, tiempo_total)\n",
    "\n",
    "print(f\"Aprendizaje total: {aprendizaje:.2f}\\n\")\n",
    "print(\"Distribución del tiempo:\")\n",
    "for nombre, horas in distribucion:\n",
    "    print(f\" - {nombre}: {horas:.2f} horas\")\n",
    "\n"
   ]
  }
 ],
 "metadata": {
  "kernelspec": {
   "display_name": "Python 3",
   "language": "python",
   "name": "python3"
  },
  "language_info": {
   "codemirror_mode": {
    "name": "ipython",
    "version": 3
   },
   "file_extension": ".py",
   "mimetype": "text/x-python",
   "name": "python",
   "nbconvert_exporter": "python",
   "pygments_lexer": "ipython3",
   "version": "3.11.9"
  }
 },
 "nbformat": 4,
 "nbformat_minor": 5
}
