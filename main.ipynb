{
 "cells": [
  {
   "cell_type": "markdown",
   "id": "911fdb64",
   "metadata": {},
   "source": [
    "# **Algoritmos Greedy | Problema de la mochila fraccionaria**"
   ]
  },
  {
   "cell_type": "markdown",
   "id": "8facc261",
   "metadata": {},
   "source": [
    "### Link del Repositorio\n",
    "\n",
    "* https://github.com/paulabaal12/mochila"
   ]
  },
  {
   "cell_type": "markdown",
   "id": "1c619edc",
   "metadata": {},
   "source": [
    "### Link de Presentación\n",
    "* https://www.canva.com/design/DAGkFkvfg08/jWdpOdZgBMqpecVudWJymw/edit "
   ]
  },
  {
   "cell_type": "markdown",
   "id": "f4e49911",
   "metadata": {},
   "source": [
    "### Integrantes del equipo\n",
    "- Francis Aguilar,\t22243\n",
    "- Angela García,\t    22869\n",
    "- Gerardo Pineda,\t22880\n",
    "- Paula Barillas, \t22764"
   ]
  },
  {
   "cell_type": "code",
   "execution_count": null,
   "id": "dcb35090",
   "metadata": {},
   "outputs": [
    {
     "data": {
      "text/plain": [
       "240.0"
      ]
     },
     "execution_count": 40,
     "metadata": {},
     "output_type": "execute_result"
    }
   ],
   "source": [
    "#Ejemplo de la clase:\n",
    "\n"
   ]
  },
  {
   "cell_type": "code",
   "execution_count": 49,
   "id": "c389a08d",
   "metadata": {},
   "outputs": [
    {
     "name": "stdout",
     "output_type": "stream",
     "text": [
      "aprendizaje total:16.0\n"
     ]
    }
   ],
   "source": [
    "# Ejemplo de uso: \n",
    "# Si tuvieramos 3 examenes para mañana y 4 horas para estudiar, \n",
    "# ¿cuantas horas estudiariamos en para cada examen?\n",
    "# La idea es que el examen mas importante se estudie mas tiempo y los otros \n",
    "# se distribuyan el tiempo restante por importancia\n",
    "\n",
    "def distribuir_tiempo(materias: list, tiempo_total: int) -> int:\n",
    "    #ordenar por valor/tiempo\n",
    "    materias.sort(key = lambda x: x[0]/x[1], reverse=True)\n",
    "\n",
    "    aprendizaje = 0\n",
    "\n",
    "    for importancia, tiempo_recomendado in materias:\n",
    "        if tiempo_recomendado == 0:\n",
    "            break\n",
    "        if tiempo_recomendado <= tiempo_total:\n",
    "            aprendizaje = aprendizaje + importancia\n",
    "            tiempo_total = tiempo_total - tiempo_recomendado\n",
    "        else:\n",
    "            fraccion = tiempo_total / tiempo_recomendado\n",
    "            aprendizaje = aprendizaje + fraccion * importancia\n",
    "            tiempo_total = 0\n",
    "\n",
    "    return aprendizaje\n",
    "\n",
    "\n",
    "#(importancia, tiempo minimo recomendado)\n",
    "ecuacionesDiferenciales = (10, 3)\n",
    "db =(6, 1)\n",
    "retosAmbientales =(2, 1)\n",
    "\n",
    "materias = [ecuacionesDiferenciales, db , retosAmbientales]\n",
    "tiempo_total = 4  # horas\n",
    "resultado = distribuir_tiempo(materias, tiempo_total)\n",
    "\n",
    "print(\"aprendizaje total:\" +str(resultado))   #que tanto aprovechamos el tiempo\n",
    "\n"
   ]
  }
 ],
 "metadata": {
  "kernelspec": {
   "display_name": "Python 3",
   "language": "python",
   "name": "python3"
  },
  "language_info": {
   "codemirror_mode": {
    "name": "ipython",
    "version": 3
   },
   "file_extension": ".py",
   "mimetype": "text/x-python",
   "name": "python",
   "nbconvert_exporter": "python",
   "pygments_lexer": "ipython3",
   "version": "3.12.8"
  }
 },
 "nbformat": 4,
 "nbformat_minor": 5
}
